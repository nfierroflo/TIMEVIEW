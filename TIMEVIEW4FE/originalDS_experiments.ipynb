{
 "cells": [
  {
   "cell_type": "code",
   "execution_count": 3,
   "metadata": {},
   "outputs": [
    {
     "data": {
      "text/plain": [
       "<torch._C.Generator at 0x1f0eb43b5f0>"
      ]
     },
     "execution_count": 3,
     "metadata": {},
     "output_type": "execute_result"
    }
   ],
   "source": [
    "import torch\n",
    "import torch.nn as nn\n",
    "import torch.optim as optim\n",
    "from torch.utils.data import Dataset, DataLoader\n",
    "from torchtsmixer import TSMixer\n",
    "import numpy as np\n",
    "import matplotlib.pyplot as plt\n",
    "import pandas as pd\n",
    "from src.training import train_tsmixer,train_latent_tsmixer,run_trials\n",
    "from timeview.basis import BSplineBasis\n",
    "from timeview.knot_selection import calculate_knot_placement\n",
    "\n",
    "#add a path to the system path\n",
    "import sys\n",
    "sys.path.append('../')\n",
    "\n",
    "from experiments.datasets import *\n",
    "seed=42\n",
    "torch.manual_seed(seed)"
   ]
  },
  {
   "cell_type": "markdown",
   "metadata": {},
   "source": [
    "# Synthetic Datasets"
   ]
  },
  {
   "cell_type": "code",
   "execution_count": 15,
   "metadata": {},
   "outputs": [
    {
     "name": "stdout",
     "output_type": "stream",
     "text": [
      "torch.Size([200, 1, 1]) torch.Size([200, 20, 1])\n"
     ]
    },
    {
     "name": "stderr",
     "output_type": "stream",
     "text": [
      "100%|██████████| 10/10 [00:21<00:00,  2.11s/it]\n",
      "c:\\Users\\nicolas.i.fierro\\AppData\\Local\\anaconda3\\envs\\timeview\\lib\\site-packages\\sklearn\\cluster\\_kmeans.py:870: FutureWarning: The default value of `n_init` will change from 10 to 'auto' in 1.4. Set the value of `n_init` explicitly to suppress the warning\n",
      "  warnings.warn(\n"
     ]
    },
    {
     "name": "stdout",
     "output_type": "stream",
     "text": [
      "Mean Test Loss: 0.0179, Std Test Loss: 0.0076\n"
     ]
    },
    {
     "name": "stderr",
     "output_type": "stream",
     "text": [
      "100%|██████████| 10/10 [00:40<00:00,  4.05s/it]"
     ]
    },
    {
     "name": "stdout",
     "output_type": "stream",
     "text": [
      "Mean Test Loss: 0.0174, Std Test Loss: 0.0081\n"
     ]
    },
    {
     "name": "stderr",
     "output_type": "stream",
     "text": [
      "\n"
     ]
    }
   ],
   "source": [
    "sequence_length = 1\n",
    "prediction_length = 20\n",
    "input_channels = 1\n",
    "output_channels = 1\n",
    "n_samples=200\n",
    "n_timesteps=prediction_length\n",
    "\n",
    "\n",
    "\n",
    "Dataset_generator=SineTransDataset(n_samples=n_samples, n_timesteps=n_timesteps)\n",
    "\n",
    "X,ts,ys=Dataset_generator.get_X_ts_ys()\n",
    "\n",
    "Ys=np.array(ys)\n",
    "X_torch=torch.tensor(X.values).float().reshape(n_samples,sequence_length,input_channels)\n",
    "Y_torch=torch.tensor(Ys).float().reshape(n_samples,prediction_length,1)\n",
    "print(X_torch.shape,Y_torch.shape)\n",
    "\n",
    "model= TSMixer(\n",
    "    sequence_length=sequence_length,\n",
    "    prediction_length=prediction_length,\n",
    "    input_channels=input_channels,\n",
    "    output_channels=output_channels,\n",
    ")\n",
    "\n",
    "\n",
    "mean_loss,std_loss=run_trials(\n",
    "    train_tsmixer,\n",
    "    model,\n",
    "    X_torch,\n",
    "    Y_torch,\n",
    "    train_ratio=0.7,\n",
    "    val_ratio=0.15,\n",
    "    test_ratio=0.15,\n",
    "    epochs=200,\n",
    "    batch_size=32,\n",
    "    lr=1e-2,\n",
    "    device=\"cpu\",\n",
    "    n_trials=10,\n",
    "    seed=42,\n",
    ")\n",
    "\n",
    "\n",
    "B=5\n",
    "\n",
    "\n",
    "internal_knots=calculate_knot_placement(ts, ys, n_internal_knots=B-2, T=1,seed=0, verbose=False)\n",
    "\n",
    "bspline=BSplineBasis(n_basis=B,t_range=(0.0,1.0),internal_knots=internal_knots)\n",
    "Phis = list(bspline.get_all_matrices(np.array(ts)))\n",
    "\n",
    "latent_model = TSMixer(\n",
    "    sequence_length=sequence_length,   # same as time steps in X\n",
    "    prediction_length=B, # number of spline coefficients to predict\n",
    "    input_channels=input_channels,\n",
    "    output_channels=output_channels,\n",
    ")\n",
    "\n",
    "\n",
    "\n",
    "mean_loss,std_loss=run_trials(\n",
    "    train_latent_tsmixer,\n",
    "    latent_model,\n",
    "    X_torch,\n",
    "    Y_torch,\n",
    "    Phis=Phis,\n",
    "    train_ratio=0.7,\n",
    "    val_ratio=0.15,\n",
    "    test_ratio=0.15,\n",
    "    epochs=200,\n",
    "    batch_size=32,\n",
    "    lr=1e-2,\n",
    "    device=\"cpu\",\n",
    "    n_trials=10,\n",
    "    seed=42,\n",
    ")"
   ]
  },
  {
   "cell_type": "code",
   "execution_count": 16,
   "metadata": {},
   "outputs": [
    {
     "name": "stdout",
     "output_type": "stream",
     "text": [
      "torch.Size([900, 1, 2]) torch.Size([900, 20, 1])\n"
     ]
    },
    {
     "name": "stderr",
     "output_type": "stream",
     "text": [
      "100%|██████████| 10/10 [01:47<00:00, 10.76s/it]\n"
     ]
    },
    {
     "name": "stdout",
     "output_type": "stream",
     "text": [
      "Mean Test Loss: 0.1045, Std Test Loss: 0.0145\n"
     ]
    },
    {
     "name": "stderr",
     "output_type": "stream",
     "text": [
      "c:\\Users\\nicolas.i.fierro\\AppData\\Local\\anaconda3\\envs\\timeview\\lib\\site-packages\\sklearn\\cluster\\_kmeans.py:870: FutureWarning: The default value of `n_init` will change from 10 to 'auto' in 1.4. Set the value of `n_init` explicitly to suppress the warning\n",
      "  warnings.warn(\n",
      "100%|██████████| 10/10 [03:56<00:00, 23.60s/it]"
     ]
    },
    {
     "name": "stdout",
     "output_type": "stream",
     "text": [
      "Mean Test Loss: 0.1089, Std Test Loss: 0.0147\n"
     ]
    },
    {
     "name": "stderr",
     "output_type": "stream",
     "text": [
      "\n"
     ]
    }
   ],
   "source": [
    "sequence_length = 1\n",
    "prediction_length = 20\n",
    "input_channels = 2\n",
    "output_channels = 1\n",
    "n_samples=900\n",
    "n_timesteps=prediction_length\n",
    "\n",
    "\n",
    "\n",
    "Dataset_generator=BetaDataset(n_samples=n_samples, n_timesteps=n_timesteps)\n",
    "X,ts,ys=Dataset_generator.get_X_ts_ys()\n",
    "\n",
    "Ys=np.array(ys)\n",
    "X_torch=torch.tensor(X.values).float().reshape(n_samples,sequence_length,input_channels)\n",
    "Y_torch=torch.tensor(Ys).float().reshape(n_samples,prediction_length,1)\n",
    "print(X_torch.shape,Y_torch.shape)\n",
    "\n",
    "model= TSMixer(\n",
    "    sequence_length=sequence_length,\n",
    "    prediction_length=prediction_length,\n",
    "    input_channels=input_channels,\n",
    "    output_channels=output_channels,\n",
    ")\n",
    "\n",
    "\n",
    "mean_loss,std_loss=run_trials(\n",
    "    train_tsmixer,\n",
    "    model,\n",
    "    X_torch,\n",
    "    Y_torch,\n",
    "    train_ratio=0.7,\n",
    "    val_ratio=0.15,\n",
    "    test_ratio=0.15,\n",
    "    epochs=200,\n",
    "    batch_size=32,\n",
    "    lr=1e-2,\n",
    "    device=\"cpu\",\n",
    "    n_trials=10,\n",
    "    seed=42,\n",
    ")\n",
    "\n",
    "\n",
    "B=5\n",
    "\n",
    "\n",
    "internal_knots=calculate_knot_placement(ts, ys, n_internal_knots=B-2, T=1,seed=0, verbose=False)\n",
    "\n",
    "bspline=BSplineBasis(n_basis=B,t_range=(0.0,1.0),internal_knots=internal_knots)\n",
    "Phis = list(bspline.get_all_matrices(np.array(ts)))\n",
    "\n",
    "latent_model = TSMixer(\n",
    "    sequence_length=sequence_length,   # same as time steps in X\n",
    "    prediction_length=B, # number of spline coefficients to predict\n",
    "    input_channels=input_channels,\n",
    "    output_channels=output_channels,\n",
    ")\n",
    "\n",
    "\n",
    "\n",
    "mean_loss,std_loss=run_trials(\n",
    "    train_latent_tsmixer,\n",
    "    latent_model,\n",
    "    X_torch,\n",
    "    Y_torch,\n",
    "    Phis=Phis,\n",
    "    train_ratio=0.7,\n",
    "    val_ratio=0.15,\n",
    "    test_ratio=0.15,\n",
    "    epochs=200,\n",
    "    batch_size=32,\n",
    "    lr=1e-2,\n",
    "    device=\"cpu\",\n",
    "    n_trials=10,\n",
    "    seed=42,\n",
    ")"
   ]
  },
  {
   "cell_type": "code",
   "execution_count": null,
   "metadata": {},
   "outputs": [
    {
     "name": "stdout",
     "output_type": "stream",
     "text": [
      "torch.Size([2000, 1, 4]) torch.Size([2000, 20, 1])\n"
     ]
    },
    {
     "name": "stderr",
     "output_type": "stream",
     "text": [
      "100%|██████████| 10/10 [04:17<00:00, 25.75s/it]\n"
     ]
    },
    {
     "name": "stdout",
     "output_type": "stream",
     "text": [
      "Mean Test Loss: 0.0115, Std Test Loss: 0.0026\n"
     ]
    },
    {
     "name": "stderr",
     "output_type": "stream",
     "text": [
      "c:\\Users\\nicolas.i.fierro\\AppData\\Local\\anaconda3\\envs\\timeview\\lib\\site-packages\\sklearn\\cluster\\_kmeans.py:870: FutureWarning: The default value of `n_init` will change from 10 to 'auto' in 1.4. Set the value of `n_init` explicitly to suppress the warning\n",
      "  warnings.warn(\n",
      "100%|██████████| 10/10 [08:18<00:00, 49.90s/it]"
     ]
    },
    {
     "name": "stdout",
     "output_type": "stream",
     "text": [
      "Mean Test Loss: 0.0126, Std Test Loss: 0.0029\n"
     ]
    },
    {
     "name": "stderr",
     "output_type": "stream",
     "text": [
      "\n"
     ]
    }
   ],
   "source": [
    "sequence_length = 1\n",
    "prediction_length = 20\n",
    "input_channels = 4\n",
    "output_channels = 1\n",
    "n_samples=2000\n",
    "n_timesteps=prediction_length\n",
    "\n",
    "\n",
    "#generate a Tumor dataset\n",
    "args={\n",
    "'n_samples': n_samples,'n_time_steps': n_timesteps,'time_horizon': 1.0,'noise_std': 0.0,'seed': 0,'equation': 'wilkerson'\n",
    "}\n",
    "\n",
    "Dataset_generator=SyntheticTumorDataset(**args)\n",
    "\n",
    "X,ts,ys=Dataset_generator.get_X_ts_ys()\n",
    "\n",
    "Ys=np.array(ys)\n",
    "X_torch=torch.tensor(X.values).float().reshape(n_samples,sequence_length,input_channels)\n",
    "Y_torch=torch.tensor(Ys).float().reshape(n_samples,prediction_length,1)\n",
    "print(X_torch.shape,Y_torch.shape)\n",
    "\n",
    "model= TSMixer(\n",
    "    sequence_length=sequence_length,\n",
    "    prediction_length=prediction_length,\n",
    "    input_channels=input_channels,\n",
    "    output_channels=output_channels,\n",
    ")\n",
    "\n",
    "\n",
    "mean_loss,std_loss=run_trials(\n",
    "    train_tsmixer,\n",
    "    model,\n",
    "    X_torch,\n",
    "    Y_torch,\n",
    "    train_ratio=0.7,\n",
    "    val_ratio=0.15,\n",
    "    test_ratio=0.15,\n",
    "    epochs=200,\n",
    "    batch_size=32,\n",
    "    lr=1e-2,\n",
    "    device=\"cpu\",\n",
    "    n_trials=10,\n",
    "    seed=42,\n",
    ")\n",
    "\n",
    "\n",
    "B=9\n",
    "\n",
    "\n",
    "internal_knots=calculate_knot_placement(ts, ys, n_internal_knots=B-2, T=1,seed=0, verbose=False)\n",
    "\n",
    "bspline=BSplineBasis(n_basis=B,t_range=(0.0,1.0),internal_knots=internal_knots)\n",
    "Phis = list(bspline.get_all_matrices(np.array(ts)))\n",
    "\n",
    "latent_model = TSMixer(\n",
    "    sequence_length=sequence_length,   # same as time steps in X\n",
    "    prediction_length=B, # number of spline coefficients to predict\n",
    "    input_channels=input_channels,\n",
    "    output_channels=output_channels,\n",
    ")\n",
    "\n",
    "\n",
    "\n",
    "mean_loss,std_loss=run_trials(\n",
    "    train_latent_tsmixer,\n",
    "    latent_model,\n",
    "    X_torch,\n",
    "    Y_torch,\n",
    "    Phis=Phis,\n",
    "    train_ratio=0.7,\n",
    "    val_ratio=0.15,\n",
    "    test_ratio=0.15,\n",
    "    epochs=200,\n",
    "    batch_size=32,\n",
    "    lr=1e-2,\n",
    "    device=\"cpu\",\n",
    "    n_trials=10,\n",
    "    seed=42,\n",
    ")\n"
   ]
  },
  {
   "cell_type": "markdown",
   "metadata": {},
   "source": [
    "# Real Datasets"
   ]
  },
  {
   "cell_type": "code",
   "execution_count": 28,
   "metadata": {},
   "outputs": [
    {
     "name": "stdout",
     "output_type": "stream",
     "text": [
      "torch.Size([73, 1, 4]) torch.Size([73, 14, 1])\n"
     ]
    },
    {
     "name": "stderr",
     "output_type": "stream",
     "text": [
      "100%|██████████| 10/10 [00:09<00:00,  1.02it/s]\n",
      "c:\\Users\\nicolas.i.fierro\\AppData\\Local\\anaconda3\\envs\\timeview\\lib\\site-packages\\sklearn\\cluster\\_kmeans.py:870: FutureWarning: The default value of `n_init` will change from 10 to 'auto' in 1.4. Set the value of `n_init` explicitly to suppress the warning\n",
      "  warnings.warn(\n"
     ]
    },
    {
     "name": "stdout",
     "output_type": "stream",
     "text": [
      "Mean Test Loss: 23.1072, Std Test Loss: 18.2025\n"
     ]
    },
    {
     "name": "stderr",
     "output_type": "stream",
     "text": [
      "100%|██████████| 10/10 [00:17<00:00,  1.74s/it]"
     ]
    },
    {
     "name": "stdout",
     "output_type": "stream",
     "text": [
      "Mean Test Loss: 23.9440, Std Test Loss: 9.1879\n"
     ]
    },
    {
     "name": "stderr",
     "output_type": "stream",
     "text": [
      "\n"
     ]
    }
   ],
   "source": [
    "os.chdir('../experiments')\n",
    "Dataset_generator=AirfoilDataset()\n",
    "X,ts,ys=Dataset_generator.get_X_ts_ys()\n",
    "\n",
    "sequence_length = 1\n",
    "prediction_length = 14\n",
    "input_channels = X.shape[-1]\n",
    "output_channels = 1\n",
    "\n",
    "\n",
    "Ys=np.array([y[:14] for y in ys if len(y)>=14])\n",
    "Ts=np.array([t[:14] for t in ts if len(t)>=14])\n",
    "X=X[X.index.isin([i for i in range(len(ys)) if len(ys[i])>=14])]\n",
    "\n",
    "X_torch=torch.tensor(X.values).float().reshape(-1,sequence_length,input_channels)\n",
    "Y_torch=torch.tensor(Ys).float().reshape(-1,prediction_length,output_channels)\n",
    "print(X_torch.shape,Y_torch.shape)\n",
    "\n",
    "model= TSMixer(\n",
    "    sequence_length=sequence_length,\n",
    "    prediction_length=prediction_length,\n",
    "    input_channels=input_channels,\n",
    "    output_channels=output_channels,\n",
    ")\n",
    "\n",
    "\n",
    "mean_loss,std_loss=run_trials(\n",
    "    train_tsmixer,\n",
    "    model,\n",
    "    X_torch,\n",
    "    Y_torch,\n",
    "    train_ratio=0.7,\n",
    "    val_ratio=0.15,\n",
    "    test_ratio=0.15,\n",
    "    epochs=200,\n",
    "    batch_size=32,\n",
    "    lr=1e-2,\n",
    "    device=\"cpu\",\n",
    "    n_trials=10,\n",
    "    seed=42,\n",
    ")\n",
    "\n",
    "B=9\n",
    "ts_N=[arr[sequence_length:] for arr in ts]\n",
    "ys_N=[arr[sequence_length:] for arr in ys]\n",
    "\n",
    "internal_knots=calculate_knot_placement(ts_N, ys_N, n_internal_knots=B-2, T=1.0, Ti=0.0 ,seed=0, verbose=False)\n",
    "\n",
    "bspline=BSplineBasis(n_basis=B,t_range=(0.0,1.0),internal_knots=internal_knots)\n",
    "Phis = list(bspline.get_all_matrices(np.array(Ts)))\n",
    "\n",
    "latent_model = TSMixer(\n",
    "    sequence_length=sequence_length,   # same as time steps in X\n",
    "    prediction_length=B, # number of spline coefficients to predict\n",
    "    input_channels=input_channels,\n",
    "    output_channels=output_channels,\n",
    ")\n",
    "\n",
    "\n",
    "mean_loss,std_loss=run_trials(\n",
    "    train_latent_tsmixer,\n",
    "    latent_model,\n",
    "    X_torch,\n",
    "    Y_torch,\n",
    "    Phis=Phis,\n",
    "    train_ratio=0.7,\n",
    "    val_ratio=0.15,\n",
    "    test_ratio=0.15,\n",
    "    epochs=200,\n",
    "    batch_size=32,\n",
    "    lr=1e-2,\n",
    "    device=\"cpu\",\n",
    "    n_trials=10,\n",
    "    seed=42,\n",
    ")"
   ]
  },
  {
   "cell_type": "code",
   "execution_count": 41,
   "metadata": {},
   "outputs": [
    {
     "name": "stdout",
     "output_type": "stream",
     "text": [
      "torch.Size([5499, 1, 7]) torch.Size([5499, 20, 1])\n"
     ]
    },
    {
     "name": "stderr",
     "output_type": "stream",
     "text": [
      "100%|██████████| 10/10 [11:03<00:00, 66.39s/it]\n"
     ]
    },
    {
     "name": "stdout",
     "output_type": "stream",
     "text": [
      "Mean Test Loss: 0.0101, Std Test Loss: 0.0007\n"
     ]
    },
    {
     "name": "stderr",
     "output_type": "stream",
     "text": [
      "c:\\Users\\nicolas.i.fierro\\AppData\\Local\\anaconda3\\envs\\timeview\\lib\\site-packages\\sklearn\\cluster\\_kmeans.py:870: FutureWarning: The default value of `n_init` will change from 10 to 'auto' in 1.4. Set the value of `n_init` explicitly to suppress the warning\n",
      "  warnings.warn(\n",
      "100%|██████████| 10/10 [21:39<00:00, 129.92s/it]"
     ]
    },
    {
     "name": "stdout",
     "output_type": "stream",
     "text": [
      "Mean Test Loss: 0.0101, Std Test Loss: 0.0008\n"
     ]
    },
    {
     "name": "stderr",
     "output_type": "stream",
     "text": [
      "\n"
     ]
    }
   ],
   "source": [
    "Dataset_generator=FLChainDataset()\n",
    "X,ts,ys=Dataset_generator.get_X_ts_ys()\n",
    "X['sex'] = X['sex'].replace({'F': 0, 'M': 1})\n",
    "X['mgus'] = X['mgus'].replace({'no': 0, 'yes': 1})\n",
    "\n",
    "sequence_length = 1\n",
    "prediction_length = 20\n",
    "input_channels = X.shape[-1]\n",
    "output_channels = 1\n",
    "\n",
    "Ys=np.array(ys)\n",
    "Ts=np.array(ts)\n",
    "\n",
    "\n",
    "X_torch=torch.tensor(X.values).float().reshape(-1,sequence_length,input_channels)\n",
    "Y_torch=torch.tensor(Ys).float().reshape(-1,prediction_length,output_channels)\n",
    "print(X_torch.shape,Y_torch.shape)\n",
    "\n",
    "model= TSMixer(\n",
    "    sequence_length=sequence_length,\n",
    "    prediction_length=prediction_length,\n",
    "    input_channels=input_channels,\n",
    "    output_channels=output_channels,\n",
    ")\n",
    "\n",
    "\n",
    "mean_loss,std_loss=run_trials(\n",
    "    train_tsmixer,\n",
    "    model,\n",
    "    X_torch,\n",
    "    Y_torch,\n",
    "    train_ratio=0.7,\n",
    "    val_ratio=0.15,\n",
    "    test_ratio=0.15,\n",
    "    epochs=200,\n",
    "    batch_size=32,\n",
    "    lr=1e-2,\n",
    "    device=\"cpu\",\n",
    "    n_trials=10,\n",
    "    seed=42,\n",
    ")\n",
    "\n",
    "B=9\n",
    "ts_N=[arr[sequence_length:] for arr in ts]\n",
    "ys_N=[arr[sequence_length:] for arr in ys]\n",
    "\n",
    "internal_knots=calculate_knot_placement(ts_N, ys_N, T=1.0, n_internal_knots=B-2, seed=0, verbose=False)\n",
    "\n",
    "bspline=BSplineBasis(n_basis=B,t_range=(0.0,1.0),internal_knots=internal_knots)\n",
    "Phis = list(bspline.get_all_matrices(np.array(Ts)))\n",
    "\n",
    "latent_model = TSMixer(\n",
    "    sequence_length=sequence_length,   # same as time steps in X\n",
    "    prediction_length=B, # number of spline coefficients to predict\n",
    "    input_channels=input_channels,\n",
    "    output_channels=output_channels,\n",
    ")\n",
    "\n",
    "\n",
    "mean_loss,std_loss=run_trials(\n",
    "    train_latent_tsmixer,\n",
    "    latent_model,\n",
    "    X_torch,\n",
    "    Y_torch,\n",
    "    Phis=Phis,\n",
    "    train_ratio=0.7,\n",
    "    val_ratio=0.15,\n",
    "    test_ratio=0.15,\n",
    "    epochs=200,\n",
    "    batch_size=32,\n",
    "    lr=1e-2,\n",
    "    device=\"cpu\",\n",
    "    n_trials=10,\n",
    "    seed=42,\n",
    ")"
   ]
  },
  {
   "cell_type": "code",
   "execution_count": 96,
   "metadata": {},
   "outputs": [
    {
     "name": "stdout",
     "output_type": "stream",
     "text": [
      "torch.Size([100, 1, 10]) torch.Size([100, 210, 1])\n"
     ]
    },
    {
     "name": "stderr",
     "output_type": "stream",
     "text": [
      "100%|██████████| 10/10 [00:14<00:00,  1.49s/it]"
     ]
    },
    {
     "name": "stdout",
     "output_type": "stream",
     "text": [
      "Mean Test Loss: 0.0485, Std Test Loss: 0.0213\n"
     ]
    },
    {
     "name": "stderr",
     "output_type": "stream",
     "text": [
      "\n"
     ]
    }
   ],
   "source": [
    "from timeview.data import _pad_to_shape\n",
    "Dataset_generator=StressStrainDataset(**{\n",
    "                \"lot\": \"all\",\n",
    "                \"include_lot_as_feature\": True,\n",
    "                \"downsample\": True,\n",
    "                \"more_samples\": 0,\n",
    "                \"specimen\": \"all\",\n",
    "                \"max_strain\": 0.2})\n",
    "X,ts,ys=Dataset_generator.get_X_ts_ys()\n",
    "\n",
    "transformer=Dataset_generator.get_default_column_transformer(keep_categorical=False)\n",
    "X_transformed = transformer.fit_transform(X)\n",
    "\n",
    "sequence_length = 1\n",
    "prediction_length = 210\n",
    "input_channels = X_transformed.shape[-1]\n",
    "output_channels = 1\n",
    "\n",
    "max_len=210\n",
    "mask = np.zeros((len(ts), max_len))\n",
    "dts = []\n",
    "padded_ys = []\n",
    "for i in range(len(ts)):\n",
    "    t = ts[i]\n",
    "    y = ys[i]\n",
    "    dt = np.diff(t)\n",
    "    dt = np.insert(dt, 0, 0)\n",
    "    n = len(dt)\n",
    "    if n > max_len:\n",
    "        dt = dt[:max_len]\n",
    "        y = y[:max_len]\n",
    "    else:\n",
    "        dt = _pad_to_shape(dt, (max_len,))\n",
    "        y = _pad_to_shape(y, (max_len,))\n",
    "    mask[i,0:n] = 1\n",
    "    dts.append(dt)\n",
    "    padded_ys.append(y)\n",
    "\n",
    "\n",
    "\n",
    "X_torch = torch.tensor(X_transformed, dtype=torch.float32).float().reshape(-1,sequence_length,input_channels)\n",
    "dts = torch.tensor(np.stack(dts, axis=0), dtype=torch.float32)\n",
    "Y_torch = torch.tensor(np.stack(padded_ys, axis=0), dtype=torch.float32).float().reshape(-1,prediction_length,output_channels)\n",
    "print(X_torch.shape,Y_torch.shape)\n",
    "\n",
    "model= TSMixer(\n",
    "    sequence_length=sequence_length,\n",
    "    prediction_length=prediction_length,\n",
    "    input_channels=input_channels,\n",
    "    output_channels=output_channels,\n",
    ")\n",
    "\n",
    "\n",
    "mean_loss,std_loss=run_trials(\n",
    "    train_tsmixer,\n",
    "    model,\n",
    "    X_torch,\n",
    "    Y_torch,\n",
    "    train_ratio=0.7,\n",
    "    val_ratio=0.15,\n",
    "    test_ratio=0.15,\n",
    "    epochs=200,\n",
    "    batch_size=32,\n",
    "    lr=1e-2,\n",
    "    device=\"cpu\",\n",
    "    n_trials=10,\n",
    "    seed=42,\n",
    ")\n"
   ]
  },
  {
   "cell_type": "code",
   "execution_count": null,
   "metadata": {},
   "outputs": [
    {
     "ename": "ValueError",
     "evalue": "x must be strictly increasing if s = 0",
     "output_type": "error",
     "traceback": [
      "\u001b[1;31m---------------------------------------------------------------------------\u001b[0m",
      "\u001b[1;31mValueError\u001b[0m                                Traceback (most recent call last)",
      "Cell \u001b[1;32mIn[98], line 4\u001b[0m\n\u001b[0;32m      1\u001b[0m B\u001b[38;5;241m=\u001b[39m\u001b[38;5;241m9\u001b[39m\n\u001b[1;32m----> 4\u001b[0m internal_knots\u001b[38;5;241m=\u001b[39m\u001b[43mcalculate_knot_placement\u001b[49m\u001b[43m(\u001b[49m\u001b[43mdts\u001b[49m\u001b[43m,\u001b[49m\u001b[43m \u001b[49m\u001b[43mpadded_ys\u001b[49m\u001b[43m,\u001b[49m\u001b[43mT\u001b[49m\u001b[38;5;241;43m=\u001b[39;49m\u001b[43mdts\u001b[49m\u001b[38;5;241;43m.\u001b[39;49m\u001b[43mmax\u001b[49m\u001b[43m(\u001b[49m\u001b[43m)\u001b[49m\u001b[43m \u001b[49m\u001b[43m,\u001b[49m\u001b[43mn_internal_knots\u001b[49m\u001b[38;5;241;43m=\u001b[39;49m\u001b[43mB\u001b[49m\u001b[38;5;241;43m-\u001b[39;49m\u001b[38;5;241;43m2\u001b[39;49m\u001b[43m,\u001b[49m\u001b[43m \u001b[49m\u001b[43mseed\u001b[49m\u001b[38;5;241;43m=\u001b[39;49m\u001b[38;5;241;43m0\u001b[39;49m\u001b[43m,\u001b[49m\u001b[43m \u001b[49m\u001b[43mverbose\u001b[49m\u001b[38;5;241;43m=\u001b[39;49m\u001b[38;5;28;43;01mFalse\u001b[39;49;00m\u001b[43m)\u001b[49m\n\u001b[0;32m      6\u001b[0m bspline\u001b[38;5;241m=\u001b[39mBSplineBasis(n_basis\u001b[38;5;241m=\u001b[39mB,t_range\u001b[38;5;241m=\u001b[39m(dts\u001b[38;5;241m.\u001b[39mmin(),dts\u001b[38;5;241m.\u001b[39mmax()),internal_knots\u001b[38;5;241m=\u001b[39minternal_knots)\n\u001b[0;32m      7\u001b[0m Phis \u001b[38;5;241m=\u001b[39m \u001b[38;5;28mlist\u001b[39m(bspline\u001b[38;5;241m.\u001b[39mget_all_matrices(np\u001b[38;5;241m.\u001b[39marray(Ts)))\n",
      "File \u001b[1;32mc:\\Users\\nicolas.i.fierro\\Downloads\\postulaciones\\vandershaar\\TIMEVIEW\\extended\\..\\timeview\\knot_selection.py:70\u001b[0m, in \u001b[0;36mcalculate_knot_placement\u001b[1;34m(ts, ys, n_internal_knots, T, Ti, seed, verbose)\u001b[0m\n\u001b[0;32m     65\u001b[0m \u001b[38;5;28;01mdef\u001b[39;00m \u001b[38;5;21mcalculate_knot_placement\u001b[39m(ts, ys, n_internal_knots, T, Ti\u001b[38;5;241m=\u001b[39m\u001b[38;5;241m0.0\u001b[39m, seed\u001b[38;5;241m=\u001b[39m\u001b[38;5;241m0\u001b[39m, verbose\u001b[38;5;241m=\u001b[39m\u001b[38;5;28;01mFalse\u001b[39;00m):\n\u001b[0;32m     66\u001b[0m \u001b[38;5;250m    \u001b[39m\u001b[38;5;124;03m\"\"\"\u001b[39;00m\n\u001b[0;32m     67\u001b[0m \u001b[38;5;124;03m    Given a list of trajectories, this function calculates the optimal knot\u001b[39;00m\n\u001b[0;32m     68\u001b[0m \u001b[38;5;124;03m    placement for all trajectories.\u001b[39;00m\n\u001b[0;32m     69\u001b[0m \u001b[38;5;124;03m    \"\"\"\u001b[39;00m\n\u001b[1;32m---> 70\u001b[0m     found_placements \u001b[38;5;241m=\u001b[39m \u001b[43mget_knots_for_trajectories\u001b[49m\u001b[43m(\u001b[49m\u001b[43mts\u001b[49m\u001b[43m,\u001b[49m\u001b[43m \u001b[49m\u001b[43mys\u001b[49m\u001b[43m,\u001b[49m\u001b[43m \u001b[49m\u001b[43mn_internal_knots\u001b[49m\u001b[43m,\u001b[49m\u001b[43m \u001b[49m\u001b[43mverbose\u001b[49m\u001b[38;5;241;43m=\u001b[39;49m\u001b[43mverbose\u001b[49m\u001b[43m)\u001b[49m\n\u001b[0;32m     71\u001b[0m     all_knots \u001b[38;5;241m=\u001b[39m np\u001b[38;5;241m.\u001b[39mconcatenate(found_placements)\u001b[38;5;241m.\u001b[39mreshape(\u001b[38;5;241m-\u001b[39m\u001b[38;5;241m1\u001b[39m,\u001b[38;5;241m1\u001b[39m)\n\u001b[0;32m     72\u001b[0m     kmeans \u001b[38;5;241m=\u001b[39m KMeans(n_clusters\u001b[38;5;241m=\u001b[39mn_internal_knots,random_state\u001b[38;5;241m=\u001b[39mseed)\u001b[38;5;241m.\u001b[39mfit(all_knots)\n",
      "File \u001b[1;32mc:\\Users\\nicolas.i.fierro\\Downloads\\postulaciones\\vandershaar\\TIMEVIEW\\extended\\..\\timeview\\knot_selection.py:59\u001b[0m, in \u001b[0;36mget_knots_for_trajectories\u001b[1;34m(ts, ys, n_internal_knots, verbose)\u001b[0m\n\u001b[0;32m     57\u001b[0m \u001b[38;5;28;01melse\u001b[39;00m:\n\u001b[0;32m     58\u001b[0m     s_guess \u001b[38;5;241m=\u001b[39m np\u001b[38;5;241m.\u001b[39mmean(s)\n\u001b[1;32m---> 59\u001b[0m knots, s_ \u001b[38;5;241m=\u001b[39m \u001b[43mget_knots_for_single_trajectory\u001b[49m\u001b[43m(\u001b[49m\u001b[43mt\u001b[49m\u001b[43m,\u001b[49m\u001b[43m \u001b[49m\u001b[43my\u001b[49m\u001b[43m,\u001b[49m\u001b[43m \u001b[49m\u001b[43mn_internal_knots\u001b[49m\u001b[43m,\u001b[49m\u001b[43m \u001b[49m\u001b[43ms_guess\u001b[49m\u001b[38;5;241;43m=\u001b[39;49m\u001b[43ms_guess\u001b[49m\u001b[43m,\u001b[49m\u001b[43m \u001b[49m\u001b[43mverbose\u001b[49m\u001b[38;5;241;43m=\u001b[39;49m\u001b[43mverbose\u001b[49m\u001b[43m)\u001b[49m\n\u001b[0;32m     60\u001b[0m found_knots\u001b[38;5;241m.\u001b[39mappend(knots)\n\u001b[0;32m     61\u001b[0m s\u001b[38;5;241m.\u001b[39mappend(s_)\n",
      "File \u001b[1;32mc:\\Users\\nicolas.i.fierro\\Downloads\\postulaciones\\vandershaar\\TIMEVIEW\\extended\\..\\timeview\\knot_selection.py:19\u001b[0m, in \u001b[0;36mget_knots_for_single_trajectory\u001b[1;34m(t, y, n_internal_knots, s_guess, verbose)\u001b[0m\n\u001b[0;32m     16\u001b[0m     s \u001b[38;5;241m=\u001b[39m s_guess\n\u001b[0;32m     18\u001b[0m \u001b[38;5;66;03m# First check what is the maximum number of knots that can be found\u001b[39;00m\n\u001b[1;32m---> 19\u001b[0m found_knots \u001b[38;5;241m=\u001b[39m \u001b[43mUnivariateSpline\u001b[49m\u001b[43m(\u001b[49m\u001b[43mt\u001b[49m\u001b[43m,\u001b[49m\u001b[43m \u001b[49m\u001b[43my\u001b[49m\u001b[43m,\u001b[49m\u001b[43m \u001b[49m\u001b[43ms\u001b[49m\u001b[38;5;241;43m=\u001b[39;49m\u001b[38;5;241;43m0\u001b[39;49m\u001b[43m)\u001b[49m\u001b[38;5;241m.\u001b[39mget_knots()\n\u001b[0;32m     20\u001b[0m \u001b[38;5;28;01mif\u001b[39;00m n_internal_knots \u001b[38;5;241m>\u001b[39m\u001b[38;5;241m=\u001b[39m \u001b[38;5;28mlen\u001b[39m(found_knots):\n\u001b[0;32m     21\u001b[0m     \u001b[38;5;28;01mreturn\u001b[39;00m found_knots, \u001b[38;5;241m0.0\u001b[39m\n",
      "File \u001b[1;32mc:\\Users\\nicolas.i.fierro\\AppData\\Local\\anaconda3\\envs\\timeview\\lib\\site-packages\\scipy\\interpolate\\_fitpack2.py:232\u001b[0m, in \u001b[0;36mUnivariateSpline.__init__\u001b[1;34m(self, x, y, w, bbox, k, s, ext, check_finite)\u001b[0m\n\u001b[0;32m    229\u001b[0m \u001b[38;5;28;01mdef\u001b[39;00m \u001b[38;5;21m__init__\u001b[39m(\u001b[38;5;28mself\u001b[39m, x, y, w\u001b[38;5;241m=\u001b[39m\u001b[38;5;28;01mNone\u001b[39;00m, bbox\u001b[38;5;241m=\u001b[39m[\u001b[38;5;28;01mNone\u001b[39;00m]\u001b[38;5;241m*\u001b[39m\u001b[38;5;241m2\u001b[39m, k\u001b[38;5;241m=\u001b[39m\u001b[38;5;241m3\u001b[39m, s\u001b[38;5;241m=\u001b[39m\u001b[38;5;28;01mNone\u001b[39;00m,\n\u001b[0;32m    230\u001b[0m              ext\u001b[38;5;241m=\u001b[39m\u001b[38;5;241m0\u001b[39m, check_finite\u001b[38;5;241m=\u001b[39m\u001b[38;5;28;01mFalse\u001b[39;00m):\n\u001b[1;32m--> 232\u001b[0m     x, y, w, bbox, \u001b[38;5;28mself\u001b[39m\u001b[38;5;241m.\u001b[39mext \u001b[38;5;241m=\u001b[39m \u001b[38;5;28;43mself\u001b[39;49m\u001b[38;5;241;43m.\u001b[39;49m\u001b[43mvalidate_input\u001b[49m\u001b[43m(\u001b[49m\u001b[43mx\u001b[49m\u001b[43m,\u001b[49m\u001b[43m \u001b[49m\u001b[43my\u001b[49m\u001b[43m,\u001b[49m\u001b[43m \u001b[49m\u001b[43mw\u001b[49m\u001b[43m,\u001b[49m\u001b[43m \u001b[49m\u001b[43mbbox\u001b[49m\u001b[43m,\u001b[49m\u001b[43m \u001b[49m\u001b[43mk\u001b[49m\u001b[43m,\u001b[49m\u001b[43m \u001b[49m\u001b[43ms\u001b[49m\u001b[43m,\u001b[49m\u001b[43m \u001b[49m\u001b[43mext\u001b[49m\u001b[43m,\u001b[49m\n\u001b[0;32m    233\u001b[0m \u001b[43m                                                  \u001b[49m\u001b[43mcheck_finite\u001b[49m\u001b[43m)\u001b[49m\n\u001b[0;32m    235\u001b[0m     \u001b[38;5;66;03m# _data == x,y,w,xb,xe,k,s,n,t,c,fp,fpint,nrdata,ier\u001b[39;00m\n\u001b[0;32m    236\u001b[0m     data \u001b[38;5;241m=\u001b[39m dfitpack\u001b[38;5;241m.\u001b[39mfpcurf0(x, y, k, w\u001b[38;5;241m=\u001b[39mw, xb\u001b[38;5;241m=\u001b[39mbbox[\u001b[38;5;241m0\u001b[39m],\n\u001b[0;32m    237\u001b[0m                             xe\u001b[38;5;241m=\u001b[39mbbox[\u001b[38;5;241m1\u001b[39m], s\u001b[38;5;241m=\u001b[39ms)\n",
      "File \u001b[1;32mc:\\Users\\nicolas.i.fierro\\AppData\\Local\\anaconda3\\envs\\timeview\\lib\\site-packages\\scipy\\interpolate\\_fitpack2.py:260\u001b[0m, in \u001b[0;36mUnivariateSpline.validate_input\u001b[1;34m(x, y, w, bbox, k, s, ext, check_finite)\u001b[0m\n\u001b[0;32m    258\u001b[0m \u001b[38;5;28;01melse\u001b[39;00m:\n\u001b[0;32m    259\u001b[0m     \u001b[38;5;28;01mif\u001b[39;00m \u001b[38;5;129;01mnot\u001b[39;00m np\u001b[38;5;241m.\u001b[39mall(diff(x) \u001b[38;5;241m>\u001b[39m \u001b[38;5;241m0.0\u001b[39m):\n\u001b[1;32m--> 260\u001b[0m         \u001b[38;5;28;01mraise\u001b[39;00m \u001b[38;5;167;01mValueError\u001b[39;00m(\u001b[38;5;124m\"\u001b[39m\u001b[38;5;124mx must be strictly increasing if s = 0\u001b[39m\u001b[38;5;124m\"\u001b[39m)\n\u001b[0;32m    261\u001b[0m \u001b[38;5;28;01mif\u001b[39;00m x\u001b[38;5;241m.\u001b[39msize \u001b[38;5;241m!=\u001b[39m y\u001b[38;5;241m.\u001b[39msize:\n\u001b[0;32m    262\u001b[0m     \u001b[38;5;28;01mraise\u001b[39;00m \u001b[38;5;167;01mValueError\u001b[39;00m(\u001b[38;5;124m\"\u001b[39m\u001b[38;5;124mx and y should have a same length\u001b[39m\u001b[38;5;124m\"\u001b[39m)\n",
      "\u001b[1;31mValueError\u001b[0m: x must be strictly increasing if s = 0"
     ]
    }
   ],
   "source": [
    "B=9\n",
    "\n",
    "\n",
    "internal_knots=calculate_knot_placement(dts, padded_ys,T=dts.max() ,n_internal_knots=B-2, seed=0, verbose=False)\n",
    "\n",
    "bspline=BSplineBasis(n_basis=B,t_range=(dts.min(),dts.max()),internal_knots=internal_knots)\n",
    "Phis = list(bspline.get_all_matrices(np.array(Ts)))\n",
    "\n",
    "latent_model = TSMixer(\n",
    "    sequence_length=sequence_length,   # same as time steps in X\n",
    "    prediction_length=B, # number of spline coefficients to predict\n",
    "    input_channels=input_channels,\n",
    "    output_channels=output_channels,\n",
    ")\n",
    "\n",
    "\n",
    "mean_loss,std_loss=run_trials(\n",
    "    train_latent_tsmixer,\n",
    "    latent_model,\n",
    "    X_torch,\n",
    "    Y_torch,\n",
    "    Phis=Phis,\n",
    "    train_ratio=0.7,\n",
    "    val_ratio=0.15,\n",
    "    test_ratio=0.15,\n",
    "    epochs=200,\n",
    "    batch_size=32,\n",
    "    lr=1e-2,\n",
    "    device=\"cpu\",\n",
    "    n_trials=10,\n",
    "    seed=42,\n",
    ")"
   ]
  }
 ],
 "metadata": {
  "kernelspec": {
   "display_name": "timeview",
   "language": "python",
   "name": "python3"
  },
  "language_info": {
   "codemirror_mode": {
    "name": "ipython",
    "version": 3
   },
   "file_extension": ".py",
   "mimetype": "text/x-python",
   "name": "python",
   "nbconvert_exporter": "python",
   "pygments_lexer": "ipython3",
   "version": "3.10.10"
  }
 },
 "nbformat": 4,
 "nbformat_minor": 2
}
