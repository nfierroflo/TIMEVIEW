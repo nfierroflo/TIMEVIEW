{
 "cells": [
  {
   "cell_type": "code",
   "execution_count": 1,
   "metadata": {},
   "outputs": [
    {
     "data": {
      "text/plain": [
       "<torch._C.Generator at 0x1ffe6ba75f0>"
      ]
     },
     "execution_count": 1,
     "metadata": {},
     "output_type": "execute_result"
    }
   ],
   "source": [
    "import torch\n",
    "import torch.nn as nn\n",
    "import torch.optim as optim\n",
    "from torch.utils.data import Dataset, DataLoader\n",
    "from torchtsmixer import TSMixer\n",
    "import numpy as np\n",
    "import matplotlib.pyplot as plt\n",
    "import pandas as pd\n",
    "from timeview.basis import BSplineBasis\n",
    "from timeview.knot_selection import calculate_knot_placement\n",
    "from src.training import train_tsmixer,train_latent_tsmixer,run_trials\n",
    "from AR_DS_experiments import execute_trials\n",
    "#add a path to the system path\n",
    "import sys\n",
    "sys.path.append('../')\n",
    "\n",
    "from experiments.datasets import *\n",
    "\n",
    "\n",
    "seed=42\n",
    "torch.manual_seed(seed)"
   ]
  },
  {
   "cell_type": "markdown",
   "metadata": {},
   "source": [
    "# AutoRegresive experiments"
   ]
  },
  {
   "cell_type": "markdown",
   "metadata": {},
   "source": [
    "## Synthetic"
   ]
  },
  {
   "cell_type": "code",
   "execution_count": 2,
   "metadata": {},
   "outputs": [
    {
     "name": "stdout",
     "output_type": "stream",
     "text": [
      "(200, 60)\n",
      "torch.Size([200, 40, 1]) torch.Size([200, 20, 1])\n"
     ]
    },
    {
     "name": "stderr",
     "output_type": "stream",
     "text": [
      "100%|██████████| 10/10 [00:25<00:00,  2.51s/it]\n",
      "c:\\Users\\nicolas.i.fierro\\AppData\\Local\\anaconda3\\envs\\timeview\\lib\\site-packages\\sklearn\\cluster\\_kmeans.py:870: FutureWarning: The default value of `n_init` will change from 10 to 'auto' in 1.4. Set the value of `n_init` explicitly to suppress the warning\n",
      "  warnings.warn(\n"
     ]
    },
    {
     "name": "stdout",
     "output_type": "stream",
     "text": [
      "Mean Test Loss: 0.0032, Std Test Loss: 0.0048\n",
      "(2.0338983050847457, 3.0)\n"
     ]
    },
    {
     "name": "stderr",
     "output_type": "stream",
     "text": [
      "100%|██████████| 10/10 [00:45<00:00,  4.60s/it]"
     ]
    },
    {
     "name": "stdout",
     "output_type": "stream",
     "text": [
      "Mean Test Loss: 0.0034, Std Test Loss: 0.0050\n"
     ]
    },
    {
     "name": "stderr",
     "output_type": "stream",
     "text": [
      "\n"
     ]
    }
   ],
   "source": [
    "dataset_dict={'n_samples':200,'n_timesteps':60}\n",
    "trial_dict={'dataset_name':\"SineTransDataset_AR\",'dataset_params':dataset_dict,'sequence_length':40,'prediction_length':20,'input_channels':1,'output_channels':1,'n_samples':200,'n_timesteps':60, 'B':5,'epochs':200,'n_trials':10}\n",
    "\n",
    "execute_trials(**trial_dict)"
   ]
  },
  {
   "cell_type": "code",
   "execution_count": 2,
   "metadata": {},
   "outputs": [
    {
     "name": "stdout",
     "output_type": "stream",
     "text": [
      "torch.Size([200, 40, 1]) torch.Size([200, 20, 1])\n"
     ]
    },
    {
     "name": "stderr",
     "output_type": "stream",
     "text": [
      "100%|██████████| 10/10 [00:24<00:00,  2.40s/it]\n",
      "c:\\Users\\nicolas.i.fierro\\AppData\\Local\\anaconda3\\envs\\timeview\\lib\\site-packages\\sklearn\\cluster\\_kmeans.py:870: FutureWarning: The default value of `n_init` will change from 10 to 'auto' in 1.4. Set the value of `n_init` explicitly to suppress the warning\n",
      "  warnings.warn(\n"
     ]
    },
    {
     "name": "stdout",
     "output_type": "stream",
     "text": [
      "Mean Test Loss: 0.0032, Std Test Loss: 0.0048\n"
     ]
    },
    {
     "name": "stderr",
     "output_type": "stream",
     "text": [
      "100%|██████████| 10/10 [01:05<00:00,  6.54s/it]"
     ]
    },
    {
     "name": "stdout",
     "output_type": "stream",
     "text": [
      "Mean Test Loss: 0.0034, Std Test Loss: 0.0050\n"
     ]
    },
    {
     "name": "stderr",
     "output_type": "stream",
     "text": [
      "\n"
     ]
    }
   ],
   "source": [
    "sequence_length = 40\n",
    "prediction_length = 20\n",
    "input_channels = 1\n",
    "output_channels = 1\n",
    "n_samples=200\n",
    "n_timesteps=sequence_length+prediction_length\n",
    "\n",
    "#generate a Sine dataset\n",
    "#Dataset_generator=SineTransDataset_AR(n_samples=n_samples, n_timesteps=n_timesteps)\n",
    "dataset_name=\"SineTransDataset_AR\"\n",
    "Dataset_generator=eval(dataset_name)(n_samples=n_samples, n_timesteps=n_timesteps)\n",
    "X,ts,ys=Dataset_generator.get_X_ts_ys()\n",
    "\n",
    "Ys=np.array(ys)\n",
    "X_torch=torch.tensor(Ys[:,:sequence_length]).float().reshape(n_samples,sequence_length,1)\n",
    "Y_torch=torch.tensor(Ys[:,sequence_length:]).float().reshape(n_samples,prediction_length,1)\n",
    "print(X_torch.shape,Y_torch.shape)\n",
    "\n",
    "model= TSMixer(\n",
    "    sequence_length=sequence_length,\n",
    "    prediction_length=prediction_length,\n",
    "    input_channels=input_channels,\n",
    "    output_channels=output_channels,\n",
    ")\n",
    "\n",
    "\n",
    "mean_loss,std_loss=run_trials(\n",
    "    train_tsmixer,\n",
    "    model,\n",
    "    X_torch,\n",
    "    Y_torch,\n",
    "    train_ratio=0.7,\n",
    "    val_ratio=0.15,\n",
    "    test_ratio=0.15,\n",
    "    epochs=200,\n",
    "    batch_size=32,\n",
    "    lr=1e-2,\n",
    "    device=\"cpu\",\n",
    "    n_trials=10,\n",
    "    seed=42,\n",
    ")\n",
    "\n",
    "\n",
    "B=5\n",
    "ts_N=[arr[sequence_length:] for arr in ts]\n",
    "ys_N=[arr[sequence_length:] for arr in ys]\n",
    "\n",
    "internal_knots=calculate_knot_placement(ts_N, ys_N, n_internal_knots=B-2, T=ts_N[0][-1], Ti=ts_N[0][0] ,seed=0, verbose=False)\n",
    "\n",
    "bspline=BSplineBasis(n_basis=B,t_range=(ts_N[0][0],ts_N[0][-1]),internal_knots=internal_knots)\n",
    "Phis = list(bspline.get_all_matrices(np.array(ts)[:,sequence_length:]))\n",
    "\n",
    "latent_model = TSMixer(\n",
    "    sequence_length=sequence_length,   # same as time steps in X\n",
    "    prediction_length=B, # number of spline coefficients to predict\n",
    "    input_channels=input_channels,\n",
    "    output_channels=output_channels,\n",
    ")\n",
    "\n",
    "\n",
    "\n",
    "mean_loss,std_loss=run_trials(\n",
    "    train_latent_tsmixer,\n",
    "    latent_model,\n",
    "    X_torch,\n",
    "    Y_torch,\n",
    "    Phis=Phis,\n",
    "    train_ratio=0.7,\n",
    "    val_ratio=0.15,\n",
    "    test_ratio=0.15,\n",
    "    epochs=200,\n",
    "    batch_size=32,\n",
    "    lr=1e-2,\n",
    "    device=\"cpu\",\n",
    "    n_trials=10,\n",
    "    seed=42,\n",
    ")"
   ]
  },
  {
   "cell_type": "code",
   "execution_count": 3,
   "metadata": {},
   "outputs": [
    {
     "name": "stdout",
     "output_type": "stream",
     "text": [
      "torch.Size([900, 40, 1]) torch.Size([900, 20, 1])\n"
     ]
    },
    {
     "name": "stderr",
     "output_type": "stream",
     "text": [
      "100%|██████████| 10/10 [03:03<00:00, 18.32s/it]\n"
     ]
    },
    {
     "name": "stdout",
     "output_type": "stream",
     "text": [
      "Mean Test Loss: 0.0075, Std Test Loss: 0.0019\n"
     ]
    },
    {
     "name": "stderr",
     "output_type": "stream",
     "text": [
      "c:\\Users\\nicolas.i.fierro\\AppData\\Local\\anaconda3\\envs\\timeview\\lib\\site-packages\\sklearn\\cluster\\_kmeans.py:870: FutureWarning: The default value of `n_init` will change from 10 to 'auto' in 1.4. Set the value of `n_init` explicitly to suppress the warning\n",
      "  warnings.warn(\n",
      "100%|██████████| 10/10 [05:38<00:00, 33.88s/it]"
     ]
    },
    {
     "name": "stdout",
     "output_type": "stream",
     "text": [
      "Mean Test Loss: 0.0099, Std Test Loss: 0.0018\n"
     ]
    },
    {
     "name": "stderr",
     "output_type": "stream",
     "text": [
      "\n"
     ]
    }
   ],
   "source": [
    "sequence_length = 40\n",
    "prediction_length = 20\n",
    "input_channels = 1\n",
    "output_channels = 1\n",
    "n_samples=900\n",
    "n_timesteps=sequence_length+prediction_length\n",
    "\n",
    "#generate a Sine dataset\n",
    "Dataset_generator=BetaDataset(n_samples=n_samples, n_timesteps=n_timesteps)\n",
    "X,ts,ys=Dataset_generator.get_X_ts_ys()\n",
    "\n",
    "Ys=np.array(ys)\n",
    "X_torch=torch.tensor(Ys[:,:sequence_length]).float().reshape(n_samples,sequence_length,1)\n",
    "Y_torch=torch.tensor(Ys[:,sequence_length:]).float().reshape(n_samples,prediction_length,1)\n",
    "print(X_torch.shape,Y_torch.shape)\n",
    "\n",
    "model= TSMixer(\n",
    "    sequence_length=sequence_length,\n",
    "    prediction_length=prediction_length,\n",
    "    input_channels=input_channels,\n",
    "    output_channels=output_channels,\n",
    ")\n",
    "\n",
    "\n",
    "mean_loss,std_loss=run_trials(\n",
    "    train_tsmixer,\n",
    "    model,\n",
    "    X_torch,\n",
    "    Y_torch,\n",
    "    train_ratio=0.7,\n",
    "    val_ratio=0.15,\n",
    "    test_ratio=0.15,\n",
    "    epochs=200,\n",
    "    batch_size=32,\n",
    "    lr=1e-2,\n",
    "    device=\"cpu\",\n",
    "    n_trials=10,\n",
    "    seed=42,\n",
    ")\n",
    "\n",
    "B=5\n",
    "ts_N=[arr[sequence_length:] for arr in ts]\n",
    "ys_N=[arr[sequence_length:] for arr in ys]\n",
    "\n",
    "internal_knots=calculate_knot_placement(ts_N, ys_N, n_internal_knots=B-2, T=ts_N[0][-1], Ti=ts_N[0][0] ,seed=0, verbose=False)\n",
    "\n",
    "bspline=BSplineBasis(n_basis=B,t_range=(ts_N[0][0],ts_N[0][-1]),internal_knots=internal_knots)\n",
    "Phis = list(bspline.get_all_matrices(np.array(ts)[:,sequence_length:]))\n",
    "\n",
    "latent_model = TSMixer(\n",
    "    sequence_length=sequence_length,   # same as time steps in X\n",
    "    prediction_length=B, # number of spline coefficients to predict\n",
    "    input_channels=input_channels,\n",
    "    output_channels=output_channels,\n",
    ")\n",
    "\n",
    "\n",
    "mean_loss,std_loss=run_trials(\n",
    "    train_latent_tsmixer,\n",
    "    latent_model,\n",
    "    X_torch,\n",
    "    Y_torch,\n",
    "    Phis=Phis,\n",
    "    train_ratio=0.7,\n",
    "    val_ratio=0.15,\n",
    "    test_ratio=0.15,\n",
    "    epochs=200,\n",
    "    batch_size=32,\n",
    "    lr=1e-2,\n",
    "    device=\"cpu\",\n",
    "    n_trials=10,\n",
    "    seed=42,\n",
    ")"
   ]
  },
  {
   "cell_type": "code",
   "execution_count": 3,
   "metadata": {},
   "outputs": [
    {
     "name": "stdout",
     "output_type": "stream",
     "text": [
      "torch.Size([900, 40, 1]) torch.Size([900, 20, 1])\n"
     ]
    },
    {
     "name": "stderr",
     "output_type": "stream",
     "text": [
      "100%|██████████| 10/10 [02:32<00:00, 15.20s/it]\n"
     ]
    },
    {
     "name": "stdout",
     "output_type": "stream",
     "text": [
      "Mean Test Loss: 0.0075, Std Test Loss: 0.0019\n"
     ]
    },
    {
     "name": "stderr",
     "output_type": "stream",
     "text": [
      "c:\\Users\\nicolas.i.fierro\\AppData\\Local\\anaconda3\\envs\\timeview\\lib\\site-packages\\sklearn\\cluster\\_kmeans.py:870: FutureWarning: The default value of `n_init` will change from 10 to 'auto' in 1.4. Set the value of `n_init` explicitly to suppress the warning\n",
      "  warnings.warn(\n",
      "100%|██████████| 10/10 [04:08<00:00, 24.89s/it]"
     ]
    },
    {
     "name": "stdout",
     "output_type": "stream",
     "text": [
      "Mean Test Loss: 0.0099, Std Test Loss: 0.0018\n"
     ]
    },
    {
     "name": "stderr",
     "output_type": "stream",
     "text": [
      "\n"
     ]
    }
   ],
   "source": [
    "sequence_length = 40\n",
    "prediction_length = 20\n",
    "input_channels = 1\n",
    "output_channels = 1\n",
    "n_samples=900\n",
    "\n",
    "\n",
    "dataset_dict={'n_samples':900,'n_timesteps':60}\n",
    "trial_dict={'dataset_name':\"BetaDataset\",'dataset_params':dataset_dict,'sequence_length':40,'prediction_length':20,'input_channels':1,'output_channels':1,'n_samples':900,'n_timesteps':60, 'B':5,'epochs':200,'n_trials':10}\n",
    "\n",
    "execute_trials(**trial_dict)"
   ]
  },
  {
   "cell_type": "code",
   "execution_count": 4,
   "metadata": {},
   "outputs": [
    {
     "name": "stdout",
     "output_type": "stream",
     "text": [
      "torch.Size([2000, 40, 1]) torch.Size([2000, 20, 1])\n"
     ]
    },
    {
     "name": "stderr",
     "output_type": "stream",
     "text": [
      "100%|██████████| 10/10 [06:23<00:00, 38.37s/it]\n"
     ]
    },
    {
     "name": "stdout",
     "output_type": "stream",
     "text": [
      "Mean Test Loss: 0.0041, Std Test Loss: 0.0011\n"
     ]
    },
    {
     "name": "stderr",
     "output_type": "stream",
     "text": [
      "c:\\Users\\nicolas.i.fierro\\AppData\\Local\\anaconda3\\envs\\timeview\\lib\\site-packages\\sklearn\\cluster\\_kmeans.py:870: FutureWarning: The default value of `n_init` will change from 10 to 'auto' in 1.4. Set the value of `n_init` explicitly to suppress the warning\n",
      "  warnings.warn(\n",
      "100%|██████████| 10/10 [11:57<00:00, 71.72s/it]"
     ]
    },
    {
     "name": "stdout",
     "output_type": "stream",
     "text": [
      "Mean Test Loss: 0.0046, Std Test Loss: 0.0024\n"
     ]
    },
    {
     "name": "stderr",
     "output_type": "stream",
     "text": [
      "\n"
     ]
    }
   ],
   "source": [
    "sequence_length = 40\n",
    "prediction_length = 20\n",
    "input_channels = 1\n",
    "output_channels = 1\n",
    "n_samples=2000\n",
    "n_timesteps=sequence_length+prediction_length\n",
    "\n",
    "\n",
    "#generate a Tumor dataset\n",
    "args={\n",
    "'n_samples': n_samples,'n_time_steps': n_timesteps,'time_horizon': 1.0,'noise_std': 0.0,'seed': 0,'equation': 'wilkerson'\n",
    "}\n",
    "\n",
    "Dataset_generator=SyntheticTumorDataset(**args)\n",
    "\n",
    "X,ts,ys=Dataset_generator.get_X_ts_ys()\n",
    "\n",
    "Ys=np.array(ys)\n",
    "X_torch=torch.tensor(Ys[:,:sequence_length]).float().reshape(n_samples,sequence_length,1)\n",
    "Y_torch=torch.tensor(Ys[:,sequence_length:]).float().reshape(n_samples,prediction_length,1)\n",
    "print(X_torch.shape,Y_torch.shape)\n",
    "\n",
    "model= TSMixer(\n",
    "    sequence_length=sequence_length,\n",
    "    prediction_length=prediction_length,\n",
    "    input_channels=input_channels,\n",
    "    output_channels=output_channels,\n",
    ")\n",
    "\n",
    "\n",
    "mean_loss,std_loss=run_trials(\n",
    "    train_tsmixer,\n",
    "    model,\n",
    "    X_torch,\n",
    "    Y_torch,\n",
    "    train_ratio=0.7,\n",
    "    val_ratio=0.15,\n",
    "    test_ratio=0.15,\n",
    "    epochs=200,\n",
    "    batch_size=32,\n",
    "    lr=1e-2,\n",
    "    device=\"cpu\",\n",
    "    n_trials=10,\n",
    "    seed=42,\n",
    ")\n",
    "\n",
    "B=9\n",
    "ts_N=[arr[sequence_length:] for arr in ts]\n",
    "ys_N=[arr[sequence_length:] for arr in ys]\n",
    "\n",
    "internal_knots=calculate_knot_placement(ts_N, ys_N, n_internal_knots=B-2, T=ts_N[0][-1], Ti=ts_N[0][0] ,seed=0, verbose=False)\n",
    "\n",
    "bspline=BSplineBasis(n_basis=B,t_range=(ts_N[0][0],ts_N[0][-1]),internal_knots=internal_knots)\n",
    "Phis = list(bspline.get_all_matrices(np.array(ts)[:,sequence_length:]))\n",
    "\n",
    "latent_model = TSMixer(\n",
    "    sequence_length=sequence_length,   # same as time steps in X\n",
    "    prediction_length=B, # number of spline coefficients to predict\n",
    "    input_channels=input_channels,\n",
    "    output_channels=output_channels,\n",
    ")\n",
    "\n",
    "\n",
    "mean_loss,std_loss=run_trials(\n",
    "    train_latent_tsmixer,\n",
    "    latent_model,\n",
    "    X_torch,\n",
    "    Y_torch,\n",
    "    Phis=Phis,\n",
    "    train_ratio=0.7,\n",
    "    val_ratio=0.15,\n",
    "    test_ratio=0.15,\n",
    "    epochs=200,\n",
    "    batch_size=32,\n",
    "    lr=1e-2,\n",
    "    device=\"cpu\",\n",
    "    n_trials=10,\n",
    "    seed=42,\n",
    ")"
   ]
  },
  {
   "cell_type": "code",
   "execution_count": 7,
   "metadata": {},
   "outputs": [
    {
     "name": "stdout",
     "output_type": "stream",
     "text": [
      "torch.Size([2000, 40, 1]) torch.Size([2000, 20, 1])\n"
     ]
    },
    {
     "name": "stderr",
     "output_type": "stream",
     "text": [
      "100%|██████████| 10/10 [05:39<00:00, 33.97s/it]\n"
     ]
    },
    {
     "name": "stdout",
     "output_type": "stream",
     "text": [
      "Mean Test Loss: 0.0035, Std Test Loss: 0.0011\n"
     ]
    },
    {
     "name": "stderr",
     "output_type": "stream",
     "text": [
      "c:\\Users\\nicolas.i.fierro\\AppData\\Local\\anaconda3\\envs\\timeview\\lib\\site-packages\\sklearn\\cluster\\_kmeans.py:870: FutureWarning: The default value of `n_init` will change from 10 to 'auto' in 1.4. Set the value of `n_init` explicitly to suppress the warning\n",
      "  warnings.warn(\n",
      "100%|██████████| 10/10 [09:57<00:00, 59.77s/it]"
     ]
    },
    {
     "name": "stdout",
     "output_type": "stream",
     "text": [
      "Mean Test Loss: 0.0046, Std Test Loss: 0.0024\n"
     ]
    },
    {
     "name": "stderr",
     "output_type": "stream",
     "text": [
      "\n"
     ]
    }
   ],
   "source": [
    "#generate a Tumor dataset-+\n",
    "dataset_dict={\n",
    "'n_samples': 2000,'n_time_steps': 60,'time_horizon': 1.0,'noise_std': 0.0,'seed': 0,'equation': 'wilkerson'\n",
    "}\n",
    "trial_dict={'dataset_name':\"SyntheticTumorDataset\",'dataset_params':dataset_dict,'sequence_length':40,'prediction_length':20,'input_channels':1,'output_channels':1,'n_samples':2000,'n_timesteps':60, 'B':9,'epochs':200,'n_trials':10}\n",
    "\n",
    "execute_trials(**trial_dict)"
   ]
  },
  {
   "cell_type": "markdown",
   "metadata": {},
   "source": [
    "## Real datasets"
   ]
  },
  {
   "cell_type": "code",
   "execution_count": 5,
   "metadata": {},
   "outputs": [
    {
     "name": "stdout",
     "output_type": "stream",
     "text": [
      "torch.Size([5499, 10, 1]) torch.Size([5499, 10, 1])\n"
     ]
    },
    {
     "name": "stderr",
     "output_type": "stream",
     "text": [
      "100%|██████████| 10/10 [16:01<00:00, 96.13s/it]\n"
     ]
    },
    {
     "name": "stdout",
     "output_type": "stream",
     "text": [
      "Mean Test Loss: 0.0009, Std Test Loss: 0.0001\n"
     ]
    },
    {
     "name": "stderr",
     "output_type": "stream",
     "text": [
      "c:\\Users\\nicolas.i.fierro\\AppData\\Local\\anaconda3\\envs\\timeview\\lib\\site-packages\\sklearn\\cluster\\_kmeans.py:870: FutureWarning: The default value of `n_init` will change from 10 to 'auto' in 1.4. Set the value of `n_init` explicitly to suppress the warning\n",
      "  warnings.warn(\n",
      "100%|██████████| 10/10 [31:32<00:00, 189.29s/it]"
     ]
    },
    {
     "name": "stdout",
     "output_type": "stream",
     "text": [
      "Mean Test Loss: 0.0009, Std Test Loss: 0.0001\n"
     ]
    },
    {
     "name": "stderr",
     "output_type": "stream",
     "text": [
      "\n"
     ]
    }
   ],
   "source": [
    "os.chdir('../experiments')\n",
    "Dataset_generator=FLChainDataset()\n",
    "X,ts,ys=Dataset_generator.get_X_ts_ys()\n",
    "\n",
    "sequence_length = 10\n",
    "prediction_length = 10\n",
    "input_channels = 1\n",
    "output_channels = 1\n",
    "\n",
    "Ys=np.array( ys)\n",
    "Ts=np.array(ts)\n",
    "\n",
    "X_torch=torch.tensor(Ys[:,:sequence_length]).float().reshape(-1,sequence_length,1)\n",
    "Y_torch=torch.tensor(Ys[:,sequence_length:]).float().reshape(-1,prediction_length,1)\n",
    "print(X_torch.shape,Y_torch.shape)\n",
    "\n",
    "model= TSMixer(\n",
    "    sequence_length=sequence_length,\n",
    "    prediction_length=prediction_length,\n",
    "    input_channels=input_channels,\n",
    "    output_channels=output_channels,\n",
    ")\n",
    "\n",
    "\n",
    "mean_loss,std_loss=run_trials(\n",
    "    train_tsmixer,\n",
    "    model,\n",
    "    X_torch,\n",
    "    Y_torch,\n",
    "    train_ratio=0.7,\n",
    "    val_ratio=0.15,\n",
    "    test_ratio=0.15,\n",
    "    epochs=200,\n",
    "    batch_size=32,\n",
    "    lr=1e-2,\n",
    "    device=\"cpu\",\n",
    "    n_trials=10,\n",
    "    seed=42,\n",
    ")\n",
    "\n",
    "B=9\n",
    "ts_N=[arr[sequence_length:] for arr in ts]\n",
    "ys_N=[arr[sequence_length:] for arr in ys]\n",
    "\n",
    "internal_knots=calculate_knot_placement(ts_N, ys_N, n_internal_knots=B-2, T=1.0, Ti=0.0 ,seed=0, verbose=False)\n",
    "\n",
    "bspline=BSplineBasis(n_basis=B,t_range=(0.0,1.0),internal_knots=internal_knots)\n",
    "Phis = list(bspline.get_all_matrices(np.array(Ts)[:,sequence_length:]))\n",
    "\n",
    "latent_model = TSMixer(\n",
    "    sequence_length=sequence_length,   # same as time steps in X\n",
    "    prediction_length=B, # number of spline coefficients to predict\n",
    "    input_channels=input_channels,\n",
    "    output_channels=output_channels,\n",
    ")\n",
    "\n",
    "\n",
    "mean_loss,std_loss=run_trials(\n",
    "    train_latent_tsmixer,\n",
    "    latent_model,\n",
    "    X_torch,\n",
    "    Y_torch,\n",
    "    Phis=Phis,\n",
    "    train_ratio=0.7,\n",
    "    val_ratio=0.15,\n",
    "    test_ratio=0.15,\n",
    "    epochs=200,\n",
    "    batch_size=32,\n",
    "    lr=1e-2,\n",
    "    device=\"cpu\",\n",
    "    n_trials=10,\n",
    "    seed=42,\n",
    ")"
   ]
  },
  {
   "cell_type": "code",
   "execution_count": 5,
   "metadata": {},
   "outputs": [
    {
     "name": "stdout",
     "output_type": "stream",
     "text": [
      "torch.Size([5499, 10, 1]) torch.Size([5499, 10, 1])\n"
     ]
    },
    {
     "name": "stderr",
     "output_type": "stream",
     "text": [
      "100%|██████████| 10/10 [11:42<00:00, 70.25s/it]\n"
     ]
    },
    {
     "name": "stdout",
     "output_type": "stream",
     "text": [
      "Mean Test Loss: 0.0010, Std Test Loss: 0.0001\n"
     ]
    },
    {
     "name": "stderr",
     "output_type": "stream",
     "text": [
      "c:\\Users\\nicolas.i.fierro\\AppData\\Local\\anaconda3\\envs\\timeview\\lib\\site-packages\\sklearn\\cluster\\_kmeans.py:870: FutureWarning: The default value of `n_init` will change from 10 to 'auto' in 1.4. Set the value of `n_init` explicitly to suppress the warning\n",
      "  warnings.warn(\n",
      "100%|██████████| 10/10 [24:19<00:00, 145.94s/it]"
     ]
    },
    {
     "name": "stdout",
     "output_type": "stream",
     "text": [
      "Mean Test Loss: 0.0009, Std Test Loss: 0.0001\n"
     ]
    },
    {
     "name": "stderr",
     "output_type": "stream",
     "text": [
      "\n"
     ]
    }
   ],
   "source": [
    "os.chdir('../experiments')\n",
    "dataset_dict={}\n",
    "trial_dict={'dataset_name':\"FLChainDataset\",'dataset_params':dataset_dict,'sequence_length':10,'prediction_length':10,'input_channels':1,'output_channels':1,'n_samples':5499,'n_timesteps':20, 'B':9,'epochs':200,'n_trials':10}\n",
    "\n",
    "execute_trials(**trial_dict)"
   ]
  },
  {
   "cell_type": "code",
   "execution_count": 4,
   "metadata": {},
   "outputs": [
    {
     "name": "stdout",
     "output_type": "stream",
     "text": [
      "(47, 210)\n",
      "torch.Size([47, 140, 1]) torch.Size([47, 70, 1])\n"
     ]
    },
    {
     "name": "stderr",
     "output_type": "stream",
     "text": [
      "100%|██████████| 10/10 [00:12<00:00,  1.22s/it]\n",
      "c:\\Users\\nicolas.i.fierro\\AppData\\Local\\anaconda3\\envs\\timeview\\lib\\site-packages\\sklearn\\cluster\\_kmeans.py:870: FutureWarning: The default value of `n_init` will change from 10 to 'auto' in 1.4. Set the value of `n_init` explicitly to suppress the warning\n",
      "  warnings.warn(\n"
     ]
    },
    {
     "name": "stdout",
     "output_type": "stream",
     "text": [
      "Mean Test Loss: 0.0018, Std Test Loss: 0.0025\n",
      "(0.0640975546777966, 0.119137177682097)\n"
     ]
    },
    {
     "name": "stderr",
     "output_type": "stream",
     "text": [
      "100%|██████████| 10/10 [00:17<00:00,  1.80s/it]"
     ]
    },
    {
     "name": "stdout",
     "output_type": "stream",
     "text": [
      "Mean Test Loss: 0.0018, Std Test Loss: 0.0026\n"
     ]
    },
    {
     "name": "stderr",
     "output_type": "stream",
     "text": [
      "\n"
     ]
    }
   ],
   "source": [
    "os.chdir('../experiments')\n",
    "dataset_dict={  \"lot\": \"all\",\n",
    "                \"include_lot_as_feature\": True,\n",
    "                \"downsample\": True,\n",
    "                \"more_samples\": 0,\n",
    "                \"specimen\": \"all\",\n",
    "                \"max_strain\": 0.2}\n",
    "\n",
    "trial_dict={'dataset_name':\"StressStrainDataset\",'dataset_params':dataset_dict,'sequence_length':140,'prediction_length':70,'input_channels':1,'output_channels':1,'n_samples':47,'n_timesteps':210,\n",
    "                \"fixed_len\":210, 'B':9,'epochs':200,'n_trials':10,'Ti':0.0,'T':1.0}\n",
    "\n",
    "execute_trials(**trial_dict)"
   ]
  },
  {
   "cell_type": "code",
   "execution_count": 6,
   "metadata": {},
   "outputs": [
    {
     "name": "stdout",
     "output_type": "stream",
     "text": [
      "torch.Size([47, 140, 1]) torch.Size([47, 70, 1])\n"
     ]
    },
    {
     "name": "stderr",
     "output_type": "stream",
     "text": [
      "100%|██████████| 10/10 [00:23<00:00,  2.32s/it]\n",
      "c:\\Users\\nicolas.i.fierro\\AppData\\Local\\anaconda3\\envs\\timeview\\lib\\site-packages\\sklearn\\cluster\\_kmeans.py:870: FutureWarning: The default value of `n_init` will change from 10 to 'auto' in 1.4. Set the value of `n_init` explicitly to suppress the warning\n",
      "  warnings.warn(\n"
     ]
    },
    {
     "name": "stdout",
     "output_type": "stream",
     "text": [
      "Mean Test Loss: 0.0018, Std Test Loss: 0.0025\n"
     ]
    },
    {
     "name": "stderr",
     "output_type": "stream",
     "text": [
      "100%|██████████| 10/10 [00:17<00:00,  1.72s/it]"
     ]
    },
    {
     "name": "stdout",
     "output_type": "stream",
     "text": [
      "Mean Test Loss: 0.0018, Std Test Loss: 0.0026\n"
     ]
    },
    {
     "name": "stderr",
     "output_type": "stream",
     "text": [
      "\n"
     ]
    }
   ],
   "source": [
    "Dataset_generator=StressStrainDataset(**{\n",
    "                \"lot\": \"all\",\n",
    "                \"include_lot_as_feature\": True,\n",
    "                \"downsample\": True,\n",
    "                \"more_samples\": 0,\n",
    "                \"specimen\": \"all\",\n",
    "                \"max_strain\": 0.2})\n",
    "X,ts,ys=Dataset_generator.get_X_ts_ys()\n",
    "\n",
    "sequence_length = 140\n",
    "prediction_length = 70\n",
    "input_channels = 1\n",
    "output_channels = 1\n",
    "fixed_length=210\n",
    "Ys=np.array([y[:210] for y in ys if len(y)>=210])\n",
    "Ts=np.array([t[:210] for t in ts if len(t)>=210])\n",
    "X=X[X.index.isin([i for i in range(len(ys)) if len(ys[i])>=prediction_length])]\n",
    "\n",
    "X_torch=torch.tensor(Ys[:,:sequence_length]).float().reshape(-1,sequence_length,1)\n",
    "Y_torch=torch.tensor(Ys[:,sequence_length:]).float().reshape(-1,prediction_length,1)\n",
    "print(X_torch.shape,Y_torch.shape)\n",
    "\n",
    "model= TSMixer(\n",
    "    sequence_length=sequence_length,\n",
    "    prediction_length=prediction_length,\n",
    "    input_channels=input_channels,\n",
    "    output_channels=output_channels,\n",
    ")\n",
    "\n",
    "\n",
    "mean_loss,std_loss=run_trials(\n",
    "    train_tsmixer,\n",
    "    model,\n",
    "    X_torch,\n",
    "    Y_torch,\n",
    "    train_ratio=0.7,\n",
    "    val_ratio=0.15,\n",
    "    test_ratio=0.15,\n",
    "    epochs=200,\n",
    "    batch_size=32,\n",
    "    lr=1e-2,\n",
    "    device=\"cpu\",\n",
    "    n_trials=10,\n",
    "    seed=42,\n",
    ")\n",
    "\n",
    "B=9\n",
    "ts_N=[arr[sequence_length:] for arr in Ts]\n",
    "ys_N=[arr[sequence_length:] for arr in Ys]\n",
    "\n",
    "internal_knots=calculate_knot_placement(ts_N, ys_N, n_internal_knots=B-2, T=1 ,seed=0, verbose=False)\n",
    "\n",
    "bspline=BSplineBasis(n_basis=B,t_range=(0,1),internal_knots=internal_knots)\n",
    "Phis = list(bspline.get_all_matrices(np.array(Ts)[:,sequence_length:]))\n",
    "\n",
    "latent_model = TSMixer(\n",
    "    sequence_length=sequence_length,   # same as time steps in X\n",
    "    prediction_length=B, # number of spline coefficients to predict\n",
    "    input_channels=input_channels,\n",
    "    output_channels=output_channels,\n",
    ")\n",
    "\n",
    "\n",
    "mean_loss,std_loss=run_trials(\n",
    "    train_latent_tsmixer,\n",
    "    latent_model,\n",
    "    X_torch,\n",
    "    Y_torch,\n",
    "    Phis=Phis,\n",
    "    train_ratio=0.7,\n",
    "    val_ratio=0.15,\n",
    "    test_ratio=0.15,\n",
    "    epochs=200,\n",
    "    batch_size=32,\n",
    "    lr=1e-2,\n",
    "    device=\"cpu\",\n",
    "    n_trials=10,\n",
    "    seed=42,\n",
    ")"
   ]
  }
 ],
 "metadata": {
  "kernelspec": {
   "display_name": "timeview",
   "language": "python",
   "name": "python3"
  },
  "language_info": {
   "codemirror_mode": {
    "name": "ipython",
    "version": 3
   },
   "file_extension": ".py",
   "mimetype": "text/x-python",
   "name": "python",
   "nbconvert_exporter": "python",
   "pygments_lexer": "ipython3",
   "version": "3.10.10"
  }
 },
 "nbformat": 4,
 "nbformat_minor": 2
}
